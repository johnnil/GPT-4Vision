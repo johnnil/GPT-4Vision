{
 "cells": [
  {
   "cell_type": "code",
   "execution_count": 3,
   "metadata": {},
   "outputs": [],
   "source": [
    "from openai import OpenAI"
   ]
  },
  {
   "cell_type": "code",
   "execution_count": 23,
   "metadata": {},
   "outputs": [
    {
     "name": "stdout",
     "output_type": "stream",
     "text": [
      "This image shows a Barbie doll dressed in a space-themed outfit, which resembles a spacesuit. The doll is accompanied by accessories that include an astronaut helmet, a flag with the \"Barbie\" logo and the phrase \"on the moon,\" and two packets that look like space food or astronaut ice cream, based on the design and labeling. The overall theme of the playset suggests an exploration or space mission scenario.\n"
     ]
    }
   ],
   "source": [
    "client = OpenAI()\n",
    "\n",
    "url = \"https://m.media-amazon.com/images/I/71JyYAYMkcL._AC_UF1000,1000_QL80_.jpg\"\n",
    "\n",
    "response = client.chat.completions.create(\n",
    "  model=\"gpt-4-vision-preview\",\n",
    "  messages=[\n",
    "    {\n",
    "      \"role\": \"user\",\n",
    "      \"content\": [\n",
    "        {\"type\": \"text\", \"text\": \"What’s in this image?\"},\n",
    "        {\n",
    "          \"type\": \"image_url\",\n",
    "          \"image_url\": {\n",
    "            \"url\": url,\n",
    "          },\n",
    "        },\n",
    "      ],\n",
    "    }\n",
    "  ],\n",
    "  max_tokens=300,\n",
    ")\n",
    "\n",
    "desc = response.choices[0].message.content\n",
    "print(desc)"
   ]
  },
  {
   "cell_type": "code",
   "execution_count": 25,
   "metadata": {},
   "outputs": [
    {
     "data": {
      "text/plain": [
       "'\"Imagine launching Barbie into space with the coolest space-themed outfit! Dare to venture beyond the stars with this amazing Barbie doll dressed in a shiny spacesuit just like a real astronaut. Prepared for her moon mission, Barbie comes with super cool accessories including a nifty astronaut helmet, Barbie logo flag to mark her lunar landings, and two fun packets that look just like real space food and astronaut ice cream! Create fantastic outer space adventures and see where your imagination can take Barbie! Explore unknown territories, touch the moon, and star in your very own space mission with this out-of-this-world Barbie playset. Let\\'s blast off into fun!\"'"
      ]
     },
     "execution_count": 25,
     "metadata": {},
     "output_type": "execute_result"
    }
   ],
   "source": [
    "response = client.chat.completions.create(\n",
    "  model=\"gpt-4\",\n",
    "  messages=[\n",
    "    {\n",
    "      \"role\": \"user\",\n",
    "      \"content\": [\n",
    "        {\"type\": \"text\", \"text\": f\"Rewrite the following text into a sales pitch aimed at children to be used in a toy store: '''{desc}'''\"},\n",
    "      ],\n",
    "    }\n",
    "  ],\n",
    "  max_tokens=500,\n",
    ")\n",
    "\n",
    "pitch = response.choices[0].message.content\n",
    "pitch"
   ]
  }
 ],
 "metadata": {
  "kernelspec": {
   "display_name": "Python 3",
   "language": "python",
   "name": "python3"
  },
  "language_info": {
   "codemirror_mode": {
    "name": "ipython",
    "version": 3
   },
   "file_extension": ".py",
   "mimetype": "text/x-python",
   "name": "python",
   "nbconvert_exporter": "python",
   "pygments_lexer": "ipython3",
   "version": "3.11.2"
  },
  "orig_nbformat": 4,
  "vscode": {
   "interpreter": {
    "hash": "092933f7715df0983c7eb682fdc43ec8197c164dd014e5337d7f9cc6084c0b97"
   }
  }
 },
 "nbformat": 4,
 "nbformat_minor": 2
}
